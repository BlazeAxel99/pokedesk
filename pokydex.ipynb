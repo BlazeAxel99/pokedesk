{
  "nbformat": 4,
  "nbformat_minor": 0,
  "metadata": {
    "colab": {
      "name": "pokydex.ipynb",
      "provenance": [],
      "private_outputs": true,
      "collapsed_sections": []
    },
    "kernelspec": {
      "name": "python3",
      "display_name": "Python 3"
    }
  },
  "cells": [
    {
      "cell_type": "code",
      "metadata": {
        "id": "W_PON_JSj9lp"
      },
      "source": [
        "import matplotlib.pyplot as plt\n",
        "import numpy as np\n",
        "\n",
        "import keras"
      ],
      "execution_count": null,
      "outputs": []
    },
    {
      "cell_type": "code",
      "metadata": {
        "id": "eHdzo7xoj_qn"
      },
      "source": [
        "\n",
        "!wget \"https://www.dropbox.com/sh/s9r1av3m4eatd3y/AAA8zYti5b5tnyKfcah2Reaja\""
      ],
      "execution_count": null,
      "outputs": []
    },
    {
      "cell_type": "code",
      "metadata": {
        "id": "DfBfTzEQj_ta"
      },
      "source": [
        "\n",
        "!unzip \"AAA8zYti5b5tnyKfcah2Reaja\" -d dataset/"
      ],
      "execution_count": null,
      "outputs": []
    },
    {
      "cell_type": "markdown",
      "metadata": {
        "id": "TlYzwAx0kKDK"
      },
      "source": [
        "Image Augmentation/ Data Generator/ Data Loader¶"
      ]
    },
    {
      "cell_type": "code",
      "metadata": {
        "id": "2j8Ixoasj_v7"
      },
      "source": [
        "from keras.preprocessing import image"
      ],
      "execution_count": null,
      "outputs": []
    },
    {
      "cell_type": "code",
      "metadata": {
        "id": "9MlDDF2Jj_yU"
      },
      "source": [
        "train_datagen = image.ImageDataGenerator(rotation_range=20, \n",
        "                         width_shift_range=0.2, \n",
        "                         height_shift_range=0.2, \n",
        "                         shear_range =0.2, \n",
        "                         zoom_range=0.3, \n",
        "                         horizontal_flip = True,\n",
        "                         rescale = 1/255.\n",
        "                         )\n"
      ],
      "execution_count": null,
      "outputs": []
    },
    {
      "cell_type": "code",
      "metadata": {
        "id": "TN18YYXEj_0o"
      },
      "source": [
        "val_datagen = image.ImageDataGenerator(rescale = 1/255.)"
      ],
      "execution_count": null,
      "outputs": []
    },
    {
      "cell_type": "code",
      "metadata": {
        "id": "HhW8BJrxj_3F"
      },
      "source": [
        "train_generator = train_datagen.flow_from_directory(\"dataset/Train\", target_size=(100,100) )"
      ],
      "execution_count": null,
      "outputs": []
    },
    {
      "cell_type": "code",
      "metadata": {
        "id": "IVAUv44Zj_5f"
      },
      "source": [
        "train_generator.class_indices"
      ],
      "execution_count": null,
      "outputs": []
    },
    {
      "cell_type": "code",
      "metadata": {
        "id": "4-TudnOBkdkR"
      },
      "source": [
        "imgs, labels = next(train_generator)"
      ],
      "execution_count": null,
      "outputs": []
    },
    {
      "cell_type": "code",
      "metadata": {
        "id": "ny_QweL5kdmp"
      },
      "source": [
        "\n",
        "imgs.shape"
      ],
      "execution_count": null,
      "outputs": []
    },
    {
      "cell_type": "code",
      "metadata": {
        "id": "gLdRqwA9kdpI"
      },
      "source": [
        "plt.imshow(imgs[1])"
      ],
      "execution_count": null,
      "outputs": []
    },
    {
      "cell_type": "code",
      "metadata": {
        "id": "CR9Vhpdakdrd"
      },
      "source": [
        "\n",
        "labels[1]"
      ],
      "execution_count": null,
      "outputs": []
    },
    {
      "cell_type": "code",
      "metadata": {
        "id": "kHFxAWJfkdt6"
      },
      "source": [
        "val_generator = val_datagen.flow_from_directory(\"dataset/Test\", target_size=(100,100))"
      ],
      "execution_count": null,
      "outputs": []
    },
    {
      "cell_type": "code",
      "metadata": {
        "id": "FWB7UIyIkdwX"
      },
      "source": [
        ""
      ],
      "execution_count": null,
      "outputs": []
    },
    {
      "cell_type": "code",
      "metadata": {
        "id": "ZgKhdkB4ksVB"
      },
      "source": [
        "\n",
        "from keras.models import Sequential\n",
        "from keras.layers import Conv2D, MaxPool2D, Flatten, Dense # ANN layers are Dense"
      ],
      "execution_count": null,
      "outputs": []
    },
    {
      "cell_type": "code",
      "metadata": {
        "id": "PFBP3uiOkscB"
      },
      "source": [
        "model = Sequential()\n",
        " # input shape is only required for the first layer\n",
        "model.add( Conv2D(filters=32, kernel_size=(3,3), activation='relu', input_shape= (100,100,3)) )\n",
        "model.add( MaxPool2D(pool_size=(2,2)) )\n",
        "\n",
        "model.add( Conv2D(filters=64, kernel_size=(3,3), activation='relu') )\n",
        "model.add( MaxPool2D(pool_size=(2,2)) )\n",
        "\n",
        "model.add( Conv2D(filters=32, kernel_size=(3,3), activation='relu') )\n",
        "model.add( Flatten() )\n",
        "\n",
        "model.add( Dense(units=3, activation='softmax'))\n",
        "model.summary()"
      ],
      "execution_count": null,
      "outputs": []
    },
    {
      "cell_type": "code",
      "metadata": {
        "id": "xFF024P3kseb"
      },
      "source": [
        "model.compile(optimizer='adam', loss='categorical_crossentropy', metrics=['accuracy'])"
      ],
      "execution_count": null,
      "outputs": []
    },
    {
      "cell_type": "code",
      "metadata": {
        "id": "yywZVtTzksg2"
      },
      "source": [
        "hist = model.fit_generator(train_generator, steps_per_epoch=304//32, epochs=10,\n",
        "                           validation_data=val_generator, validation_steps = 123//32)"
      ],
      "execution_count": null,
      "outputs": []
    },
    {
      "cell_type": "code",
      "metadata": {
        "id": "NzQAnh4-ksjm"
      },
      "source": [
        "model_history = hist.history"
      ],
      "execution_count": null,
      "outputs": []
    },
    {
      "cell_type": "code",
      "metadata": {
        "id": "hnNDh8_Cksn9"
      },
      "source": [
        "plt.plot(model_history['accuracy'], label=\"accuracy\")\n",
        "plt.plot(model_history['val_accuracy'], label=\"val accuracy\")\n",
        "plt.legend()"
      ],
      "execution_count": null,
      "outputs": []
    },
    {
      "cell_type": "code",
      "metadata": {
        "id": "qCSXoFtAkssv"
      },
      "source": [
        "plt.plot(model_history['loss'], label=\"training loss\")\n",
        "plt.plot(model_history['val_loss'], label=\"val loss\")\n",
        "plt.legend()"
      ],
      "execution_count": null,
      "outputs": []
    },
    {
      "cell_type": "code",
      "metadata": {
        "id": "vqaG2Nm9ksqk"
      },
      "source": [
        "model.evaluate(val_generator)"
      ],
      "execution_count": null,
      "outputs": []
    },
    {
      "cell_type": "code",
      "metadata": {
        "id": "jjMhaPSpksmS"
      },
      "source": [
        ""
      ],
      "execution_count": null,
      "outputs": []
    },
    {
      "cell_type": "markdown",
      "metadata": {
        "id": "g9_SsrNek_gG"
      },
      "source": [
        "Test for new Image\n"
      ]
    },
    {
      "cell_type": "code",
      "metadata": {
        "id": "hPDfv-_-lB-e"
      },
      "source": [
        "\n",
        "!wget \"https://www.thefactsite.com/wp-content/uploads/2018/04/Bulbasaur-facts.jpg\""
      ],
      "execution_count": null,
      "outputs": []
    },
    {
      "cell_type": "code",
      "metadata": {
        "id": "cwm4sKKolCQp"
      },
      "source": [
        "test_img = image.load_img(\"./Bulbasaur-facts.jpg\", target_size=(100,100) )\n",
        "test_img = np.array(test_img)/255."
      ],
      "execution_count": null,
      "outputs": []
    },
    {
      "cell_type": "code",
      "metadata": {
        "id": "rQEqg9GUlCTQ"
      },
      "source": [
        "plt.imshow(test_img)"
      ],
      "execution_count": null,
      "outputs": []
    },
    {
      "cell_type": "code",
      "metadata": {
        "id": "OwBI2pdclCV3"
      },
      "source": [
        "test_img = test_img.reshape(1,100,100,3)\n",
        "pred = model.predict_classes(test_img)"
      ],
      "execution_count": null,
      "outputs": []
    },
    {
      "cell_type": "code",
      "metadata": {
        "id": "Di8umS46lCYU"
      },
      "source": [
        "dic = train_generator.class_indices"
      ],
      "execution_count": null,
      "outputs": []
    },
    {
      "cell_type": "code",
      "metadata": {
        "id": "sBnmgbDKlCc6"
      },
      "source": [
        "rev_dic = { v:k for k,v in dic.items()}"
      ],
      "execution_count": null,
      "outputs": []
    },
    {
      "cell_type": "code",
      "metadata": {
        "id": "M40Qvv6YlCbQ"
      },
      "source": [
        "rev_dic[pred[0]]\n"
      ],
      "execution_count": null,
      "outputs": []
    }
  ]
}